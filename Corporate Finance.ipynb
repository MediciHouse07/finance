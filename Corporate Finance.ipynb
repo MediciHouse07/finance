{
 "cells": [
  {
   "cell_type": "markdown",
   "id": "e5a1d015",
   "metadata": {},
   "source": [
    "# Preface\n",
    "This notebook is to record my learning/review progress of corporate finance"
   ]
  },
  {
   "cell_type": "markdown",
   "id": "2c9c5505",
   "metadata": {},
   "source": [
    "# Bond Valudation"
   ]
  },
  {
   "cell_type": "markdown",
   "id": "b3ac412e",
   "metadata": {},
   "source": [
    "What is the price of a 9% annual coupon bond with a par value of $1,000 that matures in 3 years? Assume a required rate of return of 4%."
   ]
  },
  {
   "cell_type": "code",
   "execution_count": 36,
   "id": "043ad088",
   "metadata": {},
   "outputs": [],
   "source": [
    "# I would like to write a function to handle this problem\n",
    "\n",
    "# f_item - the first item in the sequence\n",
    "# ratio - ratio between items\n",
    "# n - number of numbers\n",
    "\n",
    "sum_geo <- function(f_item,ratio,n){\n",
    "    s <- (((1-(1/(1+ratio))^n)*f_item)/(1-(1/(1+ratio))))/(1+ratio)\n",
    "    return(s)\n",
    "}"
   ]
  },
  {
   "cell_type": "code",
   "execution_count": 19,
   "id": "d3eb24cc",
   "metadata": {},
   "outputs": [
    {
     "data": {
      "text/html": [
       "20"
      ],
      "text/latex": [
       "20"
      ],
      "text/markdown": [
       "20"
      ],
      "text/plain": [
       "[1] 20"
      ]
     },
     "metadata": {},
     "output_type": "display_data"
    }
   ],
   "source": [
    "sum_geo(5,2,2)"
   ]
  },
  {
   "cell_type": "code",
   "execution_count": 39,
   "id": "d9180a31",
   "metadata": {},
   "outputs": [],
   "source": [
    "# par - face value\n",
    "# c_rate - coupon rate\n",
    "# m_year - year of maturity\n",
    "# ymt - yield to maturity\n",
    "# np_year - number of payments by year\n",
    "\n",
    "b_evaluation <- function(par,c_rate,m_year,ymt,np_year){\n",
    "    value <- sum_geo((par*c_rate),ymt,m_year) + (par/((1+ymt)^m_year))\n",
    "    print(paste0('PIVFA is ',sum_geo((par*c_rate),ymt,m_year)))\n",
    "    print(paste0('Evaluated priciple is ',(par/((1+ymt)^m_year))))\n",
    "    return(value)\n",
    "}"
   ]
  },
  {
   "cell_type": "code",
   "execution_count": 38,
   "id": "5bb912e7",
   "metadata": {},
   "outputs": [
    {
     "data": {
      "text/html": [
       "249.758192990441"
      ],
      "text/latex": [
       "249.758192990441"
      ],
      "text/markdown": [
       "249.758192990441"
      ],
      "text/plain": [
       "[1] 249.7582"
      ]
     },
     "metadata": {},
     "output_type": "display_data"
    }
   ],
   "source": [
    "sum_geo(90,0.04,3)"
   ]
  },
  {
   "cell_type": "code",
   "execution_count": 40,
   "id": "408bd1f0",
   "metadata": {},
   "outputs": [
    {
     "name": "stdout",
     "output_type": "stream",
     "text": [
      "[1] \"PIVFA is 249.758192990441\"\n",
      "[1] \"Evaluated priciple is 888.996358670915\"\n"
     ]
    },
    {
     "data": {
      "text/html": [
       "1138.75455166136"
      ],
      "text/latex": [
       "1138.75455166136"
      ],
      "text/markdown": [
       "1138.75455166136"
      ],
      "text/plain": [
       "[1] 1138.755"
      ]
     },
     "metadata": {},
     "output_type": "display_data"
    }
   ],
   "source": [
    "b_evaluation(1000,0.09,3,0.04,1)"
   ]
  },
  {
   "cell_type": "markdown",
   "id": "cd5a91ce",
   "metadata": {},
   "source": [
    "Here I constructed 2 functions, sum_geo is to calculate PVIFA, b_evaluation can evaluate bond value 22/1/28"
   ]
  }
 ],
 "metadata": {
  "kernelspec": {
   "display_name": "R",
   "language": "R",
   "name": "ir"
  },
  "language_info": {
   "codemirror_mode": "r",
   "file_extension": ".r",
   "mimetype": "text/x-r-source",
   "name": "R",
   "pygments_lexer": "r",
   "version": "3.6.1"
  }
 },
 "nbformat": 4,
 "nbformat_minor": 5
}
